{
 "cells": [
  {
   "cell_type": "markdown",
   "metadata": {},
   "source": [
    " ## Auto Encoders"
   ]
  },
  {
   "cell_type": "markdown",
   "metadata": {},
   "source": [
    "### The Plan\n",
    "1. Split data into gene and cell features\n",
    "2. Train a AE on each\n",
    "3. Use AE to generate latent features for gene and cell features\n",
    "4. Use to train ensemble (NN, LR, XGB)"
   ]
  },
  {
   "cell_type": "code",
   "execution_count": 32,
   "metadata": {
    "scrolled": true
   },
   "outputs": [],
   "source": [
    "import os\n",
    "import random\n",
    "import time\n",
    "import torch\n",
    "import pandas as pd\n",
    "import numpy as np\n",
    "import matplotlib.pyplot as plt\n",
    "from os.path import join, exists\n",
    "from torch import nn\n",
    "from torch import optim\n",
    "from sklearn.preprocessing import StandardScaler, MinMaxScaler\n",
    "from torch.utils.data import Dataset, DataLoader\n",
    "from iterstrat.ml_stratifiers import MultilabelStratifiedKFold\n",
    "\n",
    "import sys\n",
    "sys.path.append('..')\n",
    "from pipeline.networks import create_dense_module\n",
    "from pipeline.utils import SETTINGS"
   ]
  },
  {
   "cell_type": "code",
   "execution_count": 2,
   "metadata": {
    "code_folding": [
     0
    ]
   },
   "outputs": [],
   "source": [
    "def seed_everything(seed):\n",
    "    random.seed(seed)\n",
    "    os.environ['PYTHONHASHSEED'] = str(seed)\n",
    "    np.random.seed(seed)\n",
    "    torch.manual_seed(seed)\n",
    "    torch.cuda.manual_seed(seed)\n",
    "    torch.backends.cudnn.deterministic = True\n",
    "    torch.backends.cudnn.benchmark = True"
   ]
  },
  {
   "cell_type": "code",
   "execution_count": 3,
   "metadata": {},
   "outputs": [],
   "source": [
    "SEED = 123\n",
    "BATCH_SIZE = 512\n",
    "\n",
    "seed_everything(SEED)"
   ]
  },
  {
   "cell_type": "code",
   "execution_count": 38,
   "metadata": {},
   "outputs": [],
   "source": [
    "train_features = pd.read_csv('../data/train_features.csv')\n",
    "train_targets = pd.read_csv('../data/train_targets_scored.csv')\n",
    "train_targets_ns = pd.read_csv('../data/train_targets_nonscored.csv')\n",
    "test_features = pd.read_csv('../data/test_features.csv')"
   ]
  },
  {
   "cell_type": "code",
   "execution_count": 39,
   "metadata": {},
   "outputs": [],
   "source": [
    "features = [c for c in train_features.columns if '-' in c]\n",
    "all_features = np.vstack([train_features[features].values, test_features[features].values])\n",
    "scaler = StandardScaler()\n",
    "features_t = scaler.fit_transform(all_features)\n",
    "scaler_2 = MinMaxScaler()\n",
    "features_t = scaler_2.fit_transform(features_t)"
   ]
  },
  {
   "cell_type": "code",
   "execution_count": 40,
   "metadata": {},
   "outputs": [],
   "source": [
    "def process_df(df):\n",
    "    df.loc[:, 'cp_time'] = df.loc[:, 'cp_time'].map({24: -1, 48: 0, 72: 1})\n",
    "    df.loc[:, 'cp_dose'] = df.loc[:, 'cp_dose'].map({'D1': 0, 'D2': 1})\n",
    "    df = df.drop('cp_type', axis=1)\n",
    "    df.loc[:, features] = scaler_2.transform(scaler.transform(df.loc[:, features]))\n",
    "    return df"
   ]
  },
  {
   "cell_type": "code",
   "execution_count": 41,
   "metadata": {},
   "outputs": [],
   "source": [
    "train_features = process_df(train_features)\n",
    "test_features = process_df(test_features)"
   ]
  },
  {
   "cell_type": "code",
   "execution_count": 42,
   "metadata": {},
   "outputs": [],
   "source": [
    "gene_features = [c for c in train_features.columns if 'g-' in c]\n",
    "cell_features = [c for c in train_features.columns if 'c-' in c]\n",
    "base_features = ['cp_time', 'cp_dose']\n",
    "gene_x = train_features[base_features + gene_features].values\n",
    "cell_x = train_features[base_features + cell_features].values\n",
    "y = train_targets.values[:, 1:]"
   ]
  },
  {
   "cell_type": "code",
   "execution_count": 43,
   "metadata": {
    "code_folding": [
     0
    ]
   },
   "outputs": [],
   "source": [
    "class Metrics:\n",
    "    def __init__(self):\n",
    "        self.data = []\n",
    "\n",
    "    def load(self, data):\n",
    "        self.data = data\n",
    "\n",
    "    def add(self, x):\n",
    "        return self.data.append(x)\n",
    "\n",
    "    def mean(self):\n",
    "        return np.mean(self.data)\n",
    "\n",
    "    def min_epoch(self):\n",
    "        return np.argmin(self.data)\n",
    "\n",
    "    def min(self):\n",
    "        return np.min(self.data)\n",
    "\n",
    "    def max(self):\n",
    "        return np.max(self.data)\n",
    "\n",
    "    def tail(self):\n",
    "        return self.data[-1]\n",
    "\n",
    "    def reset(self):\n",
    "        self.data = []"
   ]
  },
  {
   "cell_type": "code",
   "execution_count": 44,
   "metadata": {
    "code_folding": [
     0
    ]
   },
   "outputs": [],
   "source": [
    "class AutoEncoderDataset(Dataset):\n",
    "    def __init__(self, x):\n",
    "        self.x = x\n",
    "        self.length = len(self.x)\n",
    "    \n",
    "    def __getitem__(self, idx):\n",
    "        return self.x[idx], self.x[idx]\n",
    "    \n",
    "    def __len__(self):\n",
    "        return self.length"
   ]
  },
  {
   "cell_type": "code",
   "execution_count": 45,
   "metadata": {
    "code_folding": []
   },
   "outputs": [],
   "source": [
    "class AutoEncoder(nn.Module):\n",
    "    def __init__(self, feature_size, latent_layer_size, init_dropout, dropout, normalization, activation):\n",
    "        super(AutoEncoder, self).__init__()\n",
    "        \n",
    "        bounds = (feature_size, latent_layer_size)\n",
    "        intermediate_layer_size = int(((max(bounds) - min(bounds)) / 2) + min(bounds))\n",
    "        \n",
    "        layers = []\n",
    "        layers.extend(create_dense_module(feature_size, intermediate_layer_size, init_dropout, normalization, activation))\n",
    "        layers.extend(create_dense_module(intermediate_layer_size, latent_layer_size, dropout, normalization, activation))\n",
    "        layers.extend(create_dense_module(latent_layer_size, intermediate_layer_size, dropout, normalization, activation))\n",
    "        layers.extend(create_dense_module(intermediate_layer_size, feature_size, dropout, normalization, activation=None))\n",
    "        self.layers = nn.Sequential(*layers)\n",
    "        \n",
    "    def forward(self, x):\n",
    "        return self.layers(x)"
   ]
  },
  {
   "cell_type": "code",
   "execution_count": null,
   "metadata": {},
   "outputs": [],
   "source": [
    "# transform create_dense_module into nn.Module, then add nan fix"
   ]
  },
  {
   "cell_type": "code",
   "execution_count": 46,
   "metadata": {
    "code_folding": [
     134,
     160,
     174,
     181,
     191
    ]
   },
   "outputs": [],
   "source": [
    "class NeuralNetModel:\n",
    "    def __init__(self, model_dict):\n",
    "        self.model_dict = model_dict\n",
    "        self.best_weights_path = join(self.model_dict['model_dir'], 'fold-%d-weights.pth' % self.model_dict['fold'])\n",
    "        self.epoch = 0\n",
    "        self.criterion = nn.BCEWithLogitsLoss()\n",
    "        self.train_metrics = Metrics()\n",
    "        self.valid_metrics = Metrics()\n",
    "\n",
    "        if model_dict['normalization'] == 'batch':\n",
    "            model_dict['normalization'] = nn.BatchNorm1d\n",
    "        else:\n",
    "            Exception('Normalization not supported.')\n",
    "\n",
    "        if model_dict['activation'] == 'relu':\n",
    "            model_dict['activation'] = nn.ReLU\n",
    "        elif model_dict['activation'] == 'prelu':\n",
    "            model_dict['activation'] = nn.PReLU\n",
    "        else:\n",
    "            Exception('Activation not supported.')\n",
    "        \n",
    "        if model_dict['model'] == 'AutoEncoder':\n",
    "            self.model = AutoEncoder(\n",
    "                model_dict['feature_size'],\n",
    "                model_dict['latent_layer_size'],\n",
    "                model_dict['init_dropout'],\n",
    "                model_dict['dropout'],\n",
    "                model_dict['normalization'],\n",
    "                model_dict['activation'],\n",
    "            )\n",
    "\n",
    "        # Setup optimizer\n",
    "        if model_dict['optimizer'] == 'sgd':\n",
    "            self.optimizer = optim.SGD(self.model.parameters(),\n",
    "                                       lr=model_dict['learning_rate'],\n",
    "                                       momentum=model_dict['momentum'])\n",
    "        elif model_dict['optimizer'] == 'adam':\n",
    "            self.optimizer = optim.Adam(self.model.parameters(),\n",
    "                                        lr=model_dict['learning_rate'],\n",
    "                                        weight_decay=model_dict['weight_decay'])\n",
    "        else:\n",
    "            Exception('Optimizer not supported.')\n",
    "\n",
    "        # Setup scheduler\n",
    "        if model_dict['scheduler'] == 'ReduceLROnPlateau':\n",
    "            self.scheduler = optim.lr_scheduler.ReduceLROnPlateau(self.optimizer,\n",
    "                                                                  patience=3,\n",
    "                                                                  threshold=0.00001)\n",
    "        elif model_dict['scheduler'] == 'OneCycleLR':\n",
    "            self.scheduler = optim.lr_scheduler.OneCycleLR(self.optimizer,\n",
    "                                                           max_lr=0.01,\n",
    "                                                           pct_start=0.1,\n",
    "                                                           div_factor=1e3,\n",
    "                                                           epochs=model_dict['n_epochs'],\n",
    "                                                           steps_per_epoch=model_config['steps_per_epoch'])\n",
    "        else:\n",
    "            Exception('Scheduler not supported.')\n",
    "\n",
    "        # Save initial states of model, optimizer and scheduler\n",
    "        self.init_states = dict(\n",
    "            model=self.model.state_dict(),\n",
    "            optimizer=self.optimizer.state_dict(),\n",
    "            scheduler=self.scheduler.state_dict()\n",
    "        )\n",
    "        self.model = self.model.cuda()\n",
    "\n",
    "    def train_epoch(self, train_dataloader):\n",
    "        losses = []\n",
    "        self.model.train()\n",
    "\n",
    "        for features_c, features in train_dataloader:\n",
    "            features_c = features.cuda().float()\n",
    "            features = features.cuda().float()\n",
    "            predictions = self.model(features_c)\n",
    "            loss = self.criterion(predictions, features)\n",
    "            for p in self.model.parameters():\n",
    "                p.grad = None\n",
    "            loss.backward()\n",
    "            self.optimizer.step()\n",
    "            if self.model_dict['scheduler'] == 'OneCycleLR':\n",
    "                self.scheduler.step()\n",
    "            losses.append(loss.detach().cpu().numpy())\n",
    "        \n",
    "        \n",
    "#         for features, targets, ids in train_dataloader:\n",
    "#             features = {k: v.cuda().float() for k, v in features.items()}\n",
    "#             targets = targets.cuda().float()\n",
    "#             predictions = self.model(features)\n",
    "#             loss = self.criterion(predictions, targets)\n",
    "#             for p in self.model.parameters():\n",
    "#                 p.grad = None\n",
    "#             if self.model_dict['use_amp']:\n",
    "#                 with amp.scale_loss(loss, self.optimizer) as scaled_loss:\n",
    "#                     scaled_loss.backward()\n",
    "#             else:\n",
    "#                 loss.backward()\n",
    "#             self.optimizer.step()\n",
    "#             if self.model_dict['scheduler'] == 'OneCycleLR':\n",
    "#                 self.scheduler.step()\n",
    "#             losses.append(loss.detach().cpu().numpy())\n",
    "        avg_loss = float(np.mean(losses))\n",
    "        self.train_metrics.add(avg_loss)\n",
    "        return avg_loss\n",
    "\n",
    "    def validation(self, valid_dataloader, return_preds=False):\n",
    "        losses = []\n",
    "        predictions = []\n",
    "        self.model.eval()\n",
    "\n",
    "        for features_c, features in valid_dataloader:\n",
    "            features_c = features_c.cuda().float()\n",
    "            features = features.cuda().float()\n",
    "            pred = self.model(features_c)\n",
    "            loss = self.criterion(pred, features)\n",
    "            losses.append(loss.detach().cpu().numpy())\n",
    "            if return_preds:\n",
    "                predictions.extend(pred.detach().cpu().numpy())\n",
    "\n",
    "#         for features, targets, ids in valid_dataloader:\n",
    "#             features = {k: v.cuda().float() for k, v in features.items()}\n",
    "#             targets = targets.cuda().float()\n",
    "#             pred = self.model(features)\n",
    "#             loss = self.criterion(pred, targets)\n",
    "#             losses.append(loss.detach().cpu().numpy())\n",
    "#             if return_preds:\n",
    "#                 predictions.extend(pred.detach().cpu().numpy())\n",
    "\n",
    "        avg_loss = float(np.mean(losses))\n",
    "\n",
    "        if return_preds:\n",
    "            return avg_loss, predictions\n",
    "        else:\n",
    "            return avg_loss\n",
    "\n",
    "    def train(self, train_dataloader, valid_dataloader):\n",
    "        for epoch in range(self.model_dict['n_epochs']):\n",
    "            self.epoch = epoch\n",
    "            time0 = time.time()\n",
    "\n",
    "            train_avg_loss = self.train_epoch(train_dataloader)\n",
    "            valid_avg_loss = self.validation(valid_dataloader)\n",
    "\n",
    "            if self.epoch == 0 or valid_avg_loss < self.valid_metrics.min():\n",
    "                # new best weights\n",
    "                self.save(self.best_weights_path)\n",
    "            self.valid_metrics.add(valid_avg_loss)\n",
    "\n",
    "            if self.model_dict['scheduler'] != 'OneCycleLR':\n",
    "                self.scheduler.step(valid_avg_loss)\n",
    "\n",
    "            time1 = time.time()\n",
    "            epoch_time = time1 - time0\n",
    "            if self.model_dict['verbose']:\n",
    "                print('Epoch %d/%d Train Loss: %.5f Valid Loss: %.5f Time: %.2f' % (\n",
    "                    epoch+1, self.model_dict['n_epochs'], train_avg_loss, valid_avg_loss, epoch_time\n",
    "                ))\n",
    "\n",
    "        # restore weights from best epoch\n",
    "        self.load(self.best_weights_path)\n",
    "\n",
    "    def predict(self, test_features):\n",
    "        test_dataset = MoaDataset(test_features)\n",
    "        test_dataloader = DataLoader(test_dataset,\n",
    "                                     batch_size=self.model_dict['batch_size'],\n",
    "                                     num_workers=self.model_dict['num_workers'],\n",
    "                                     pin_memory=True)\n",
    "        predictions = []\n",
    "        self.model.eval()\n",
    "        for features, ids in test_dataloader:\n",
    "            features = {k: v.cuda().float() for k, v in features.items()}\n",
    "            pred = self.model(features)\n",
    "            predictions.extend(pred.detach().cpu().numpy())\n",
    "        return predictions\n",
    "\n",
    "    def reset(self):\n",
    "        self.model.load_state_dict(self.init_states['model'])\n",
    "        self.optimizer.load_state_dict(self.init_states['optimizer'])\n",
    "        self.scheduler.load_state_dict(self.init_states['scheduler'])\n",
    "        self.train_metrics.reset()\n",
    "        self.valid_metrics.reset()\n",
    "\n",
    "    def save(self, path):\n",
    "        self.model.eval()\n",
    "        torch.save({\n",
    "            'model': self.model.state_dict(),\n",
    "            'optimizer': self.optimizer.state_dict(),\n",
    "            'scheduler': self.scheduler.state_dict(),\n",
    "            'train_metrics': self.train_metrics.data,\n",
    "            'valid_metrics': self.valid_metrics.data,\n",
    "        }, path)\n",
    "\n",
    "    def load(self, path):\n",
    "        state_dict = torch.load(path)\n",
    "        self.model.load_state_dict(state_dict['model'])\n",
    "        self.optimizer.load_state_dict(state_dict['optimizer'])\n",
    "        self.scheduler.load_state_dict(state_dict['scheduler'])\n",
    "        self.train_metrics.load(state_dict['train_metrics'])\n",
    "        self.valid_metrics.load(state_dict['valid_metrics'])"
   ]
  },
  {
   "cell_type": "code",
   "execution_count": 47,
   "metadata": {
    "code_folding": [
     0
    ]
   },
   "outputs": [],
   "source": [
    "def initialize_bias(layers, init_bias):\n",
    "    weights = layers.state_dict()\n",
    "    last_layer_id = next(reversed(weights)).split('.')[0]\n",
    "    weights[last_layer_id + '.bias'] = torch.tensor(init_bias)\n",
    "    layers.load_state_dict(weights)\n",
    "    return layers"
   ]
  },
  {
   "cell_type": "code",
   "execution_count": 48,
   "metadata": {},
   "outputs": [],
   "source": [
    "model_config = dict(\n",
    "    model='AutoEncoder',\n",
    "    latent_layer_size=128,\n",
    "    init_dropout=0.2,\n",
    "    dropout=0.2,\n",
    "    normalization='batch',\n",
    "    activation='relu',\n",
    "    \n",
    "    n_epochs=25,\n",
    "    optimizer='adam',\n",
    "    learning_rate=0.001,\n",
    "    weight_decay=1e-4,\n",
    "    scheduler='OneCycleLR',\n",
    "    verbose=True\n",
    ")"
   ]
  },
  {
   "cell_type": "code",
   "execution_count": 49,
   "metadata": {
    "scrolled": true
   },
   "outputs": [
    {
     "name": "stderr",
     "output_type": "stream",
     "text": [
      "/home/matthew/anaconda3/envs/ml_py385/lib/python3.8/site-packages/sklearn/utils/validation.py:67: FutureWarning: Pass shuffle=True, random_state=123 as keyword args. From version 0.25 passing these as positional arguments will result in an error\n",
      "  warnings.warn(\"Pass {} as keyword args. From version 0.25 \"\n"
     ]
    },
    {
     "name": "stdout",
     "output_type": "stream",
     "text": [
      "Epoch 1/25 Train Loss: 0.73320 Valid Loss: 0.69640 Time: 1.13\n",
      "Epoch 2/25 Train Loss: 0.67683 Valid Loss: 0.66528 Time: 1.05\n",
      "Epoch 3/25 Train Loss: 0.66265 Valid Loss: 0.66428 Time: 1.11\n",
      "Epoch 4/25 Train Loss: 0.65168 Valid Loss: 0.65927 Time: 1.08\n",
      "Epoch 5/25 Train Loss: 0.64165 Valid Loss: 0.64351 Time: 1.06\n",
      "Epoch 6/25 Train Loss: 0.63241 Valid Loss: 0.62544 Time: 1.09\n",
      "Epoch 7/25 Train Loss: 0.62011 Valid Loss: 0.61103 Time: 1.07\n",
      "Epoch 8/25 Train Loss: 0.60453 Valid Loss: 0.58984 Time: 1.09\n",
      "Epoch 9/25 Train Loss: 0.58591 Valid Loss: 0.57039 Time: 1.08\n",
      "Epoch 10/25 Train Loss: 0.56422 Valid Loss: 0.54597 Time: 1.03\n",
      "Epoch 11/25 Train Loss: 0.54031 Valid Loss: 0.50885 Time: 1.07\n",
      "Epoch 12/25 Train Loss: 0.51593 Valid Loss: 0.48485 Time: 1.05\n",
      "Epoch 13/25 Train Loss: 0.49158 Valid Loss: 0.47187 Time: 1.11\n",
      "Epoch 14/25 Train Loss: 0.46885 Valid Loss: 0.43491 Time: 1.08\n",
      "Epoch 15/25 Train Loss: 0.44655 Valid Loss: 0.42040 Time: 1.05\n",
      "Epoch 16/25 Train Loss: nan Valid Loss: nan Time: 1.10\n",
      "Epoch 17/25 Train Loss: nan Valid Loss: nan Time: 1.05\n",
      "Epoch 18/25 Train Loss: nan Valid Loss: nan Time: 1.03\n",
      "Epoch 19/25 Train Loss: nan Valid Loss: nan Time: 1.06\n",
      "Epoch 20/25 Train Loss: nan Valid Loss: nan Time: 1.05\n",
      "Epoch 21/25 Train Loss: nan Valid Loss: nan Time: 1.11\n"
     ]
    },
    {
     "name": "stderr",
     "output_type": "stream",
     "text": [
      "Exception in thread Thread-145:\n",
      "Traceback (most recent call last):\n",
      "  File \"/home/matthew/anaconda3/envs/ml_py385/lib/python3.8/threading.py\", line 932, in _bootstrap_inner\n",
      "    self.run()\n",
      "  File \"/home/matthew/anaconda3/envs/ml_py385/lib/python3.8/threading.py\", line 870, in run\n",
      "    self._target(*self._args, **self._kwargs)\n",
      "  File \"/home/matthew/anaconda3/envs/ml_py385/lib/python3.8/site-packages/torch/utils/data/_utils/pin_memory.py\", line 25, in _pin_memory_loop\n",
      "    r = in_queue.get(timeout=MP_STATUS_CHECK_INTERVAL)\n",
      "  File \"/home/matthew/anaconda3/envs/ml_py385/lib/python3.8/multiprocessing/queues.py\", line 116, in get\n",
      "    return _ForkingPickler.loads(res)\n",
      "  File \"/home/matthew/anaconda3/envs/ml_py385/lib/python3.8/site-packages/torch/multiprocessing/reductions.py\", line 282, in rebuild_storage_fd\n",
      "    fd = df.detach()\n",
      "  File \"/home/matthew/anaconda3/envs/ml_py385/lib/python3.8/multiprocessing/resource_sharer.py\", line 57, in detach\n",
      "    with _resource_sharer.get_connection(self._id) as conn:\n",
      "  File \"/home/matthew/anaconda3/envs/ml_py385/lib/python3.8/multiprocessing/resource_sharer.py\", line 87, in get_connection\n",
      "    c = Client(address, authkey=process.current_process().authkey)\n",
      "  File \"/home/matthew/anaconda3/envs/ml_py385/lib/python3.8/multiprocessing/connection.py\", line 502, in Client\n",
      "    c = SocketClient(address)\n",
      "  File \"/home/matthew/anaconda3/envs/ml_py385/lib/python3.8/multiprocessing/connection.py\", line 630, in SocketClient\n",
      "    s.connect(address)\n",
      "FileNotFoundError: [Errno 2] No such file or directory\n"
     ]
    },
    {
     "ename": "KeyboardInterrupt",
     "evalue": "",
     "output_type": "error",
     "traceback": [
      "\u001b[0;31m---------------------------------------------------------------------------\u001b[0m",
      "\u001b[0;31mKeyboardInterrupt\u001b[0m                         Traceback (most recent call last)",
      "\u001b[0;32m<ipython-input-49-c0d453769177>\u001b[0m in \u001b[0;36m<module>\u001b[0;34m\u001b[0m\n\u001b[1;32m     32\u001b[0m \u001b[0;34m\u001b[0m\u001b[0m\n\u001b[1;32m     33\u001b[0m         \u001b[0;31m# Train model\u001b[0m\u001b[0;34m\u001b[0m\u001b[0;34m\u001b[0m\u001b[0;34m\u001b[0m\u001b[0m\n\u001b[0;32m---> 34\u001b[0;31m         \u001b[0mmodel\u001b[0m\u001b[0;34m.\u001b[0m\u001b[0mtrain\u001b[0m\u001b[0;34m(\u001b[0m\u001b[0mtrain_dataloader\u001b[0m\u001b[0;34m,\u001b[0m \u001b[0mvalid_dataloader\u001b[0m\u001b[0;34m)\u001b[0m\u001b[0;34m\u001b[0m\u001b[0;34m\u001b[0m\u001b[0m\n\u001b[0m\u001b[1;32m     35\u001b[0m         \u001b[0;32mbreak\u001b[0m\u001b[0;34m\u001b[0m\u001b[0;34m\u001b[0m\u001b[0m\n\u001b[1;32m     36\u001b[0m     \u001b[0;32mbreak\u001b[0m\u001b[0;34m\u001b[0m\u001b[0;34m\u001b[0m\u001b[0m\n",
      "\u001b[0;32m<ipython-input-46-0d98086467d4>\u001b[0m in \u001b[0;36mtrain\u001b[0;34m(self, train_dataloader, valid_dataloader)\u001b[0m\n\u001b[1;32m    138\u001b[0m             \u001b[0mtime0\u001b[0m \u001b[0;34m=\u001b[0m \u001b[0mtime\u001b[0m\u001b[0;34m.\u001b[0m\u001b[0mtime\u001b[0m\u001b[0;34m(\u001b[0m\u001b[0;34m)\u001b[0m\u001b[0;34m\u001b[0m\u001b[0;34m\u001b[0m\u001b[0m\n\u001b[1;32m    139\u001b[0m \u001b[0;34m\u001b[0m\u001b[0m\n\u001b[0;32m--> 140\u001b[0;31m             \u001b[0mtrain_avg_loss\u001b[0m \u001b[0;34m=\u001b[0m \u001b[0mself\u001b[0m\u001b[0;34m.\u001b[0m\u001b[0mtrain_epoch\u001b[0m\u001b[0;34m(\u001b[0m\u001b[0mtrain_dataloader\u001b[0m\u001b[0;34m)\u001b[0m\u001b[0;34m\u001b[0m\u001b[0;34m\u001b[0m\u001b[0m\n\u001b[0m\u001b[1;32m    141\u001b[0m             \u001b[0mvalid_avg_loss\u001b[0m \u001b[0;34m=\u001b[0m \u001b[0mself\u001b[0m\u001b[0;34m.\u001b[0m\u001b[0mvalidation\u001b[0m\u001b[0;34m(\u001b[0m\u001b[0mvalid_dataloader\u001b[0m\u001b[0;34m)\u001b[0m\u001b[0;34m\u001b[0m\u001b[0;34m\u001b[0m\u001b[0m\n\u001b[1;32m    142\u001b[0m \u001b[0;34m\u001b[0m\u001b[0m\n",
      "\u001b[0;32m<ipython-input-46-0d98086467d4>\u001b[0m in \u001b[0;36mtrain_epoch\u001b[0;34m(self, train_dataloader)\u001b[0m\n\u001b[1;32m     76\u001b[0m             \u001b[0;32mfor\u001b[0m \u001b[0mp\u001b[0m \u001b[0;32min\u001b[0m \u001b[0mself\u001b[0m\u001b[0;34m.\u001b[0m\u001b[0mmodel\u001b[0m\u001b[0;34m.\u001b[0m\u001b[0mparameters\u001b[0m\u001b[0;34m(\u001b[0m\u001b[0;34m)\u001b[0m\u001b[0;34m:\u001b[0m\u001b[0;34m\u001b[0m\u001b[0;34m\u001b[0m\u001b[0m\n\u001b[1;32m     77\u001b[0m                 \u001b[0mp\u001b[0m\u001b[0;34m.\u001b[0m\u001b[0mgrad\u001b[0m \u001b[0;34m=\u001b[0m \u001b[0;32mNone\u001b[0m\u001b[0;34m\u001b[0m\u001b[0;34m\u001b[0m\u001b[0m\n\u001b[0;32m---> 78\u001b[0;31m             \u001b[0mloss\u001b[0m\u001b[0;34m.\u001b[0m\u001b[0mbackward\u001b[0m\u001b[0;34m(\u001b[0m\u001b[0;34m)\u001b[0m\u001b[0;34m\u001b[0m\u001b[0;34m\u001b[0m\u001b[0m\n\u001b[0m\u001b[1;32m     79\u001b[0m             \u001b[0mself\u001b[0m\u001b[0;34m.\u001b[0m\u001b[0moptimizer\u001b[0m\u001b[0;34m.\u001b[0m\u001b[0mstep\u001b[0m\u001b[0;34m(\u001b[0m\u001b[0;34m)\u001b[0m\u001b[0;34m\u001b[0m\u001b[0;34m\u001b[0m\u001b[0m\n\u001b[1;32m     80\u001b[0m             \u001b[0;32mif\u001b[0m \u001b[0mself\u001b[0m\u001b[0;34m.\u001b[0m\u001b[0mmodel_dict\u001b[0m\u001b[0;34m[\u001b[0m\u001b[0;34m'scheduler'\u001b[0m\u001b[0;34m]\u001b[0m \u001b[0;34m==\u001b[0m \u001b[0;34m'OneCycleLR'\u001b[0m\u001b[0;34m:\u001b[0m\u001b[0;34m\u001b[0m\u001b[0;34m\u001b[0m\u001b[0m\n",
      "\u001b[0;32m~/anaconda3/envs/ml_py385/lib/python3.8/site-packages/torch/tensor.py\u001b[0m in \u001b[0;36mbackward\u001b[0;34m(self, gradient, retain_graph, create_graph)\u001b[0m\n\u001b[1;32m    183\u001b[0m                 \u001b[0mproducts\u001b[0m\u001b[0;34m.\u001b[0m \u001b[0mDefaults\u001b[0m \u001b[0mto\u001b[0m\u001b[0;31m \u001b[0m\u001b[0;31m`\u001b[0m\u001b[0;31m`\u001b[0m\u001b[0;32mFalse\u001b[0m\u001b[0;31m`\u001b[0m\u001b[0;31m`\u001b[0m\u001b[0;34m.\u001b[0m\u001b[0;34m\u001b[0m\u001b[0;34m\u001b[0m\u001b[0m\n\u001b[1;32m    184\u001b[0m         \"\"\"\n\u001b[0;32m--> 185\u001b[0;31m         \u001b[0mtorch\u001b[0m\u001b[0;34m.\u001b[0m\u001b[0mautograd\u001b[0m\u001b[0;34m.\u001b[0m\u001b[0mbackward\u001b[0m\u001b[0;34m(\u001b[0m\u001b[0mself\u001b[0m\u001b[0;34m,\u001b[0m \u001b[0mgradient\u001b[0m\u001b[0;34m,\u001b[0m \u001b[0mretain_graph\u001b[0m\u001b[0;34m,\u001b[0m \u001b[0mcreate_graph\u001b[0m\u001b[0;34m)\u001b[0m\u001b[0;34m\u001b[0m\u001b[0;34m\u001b[0m\u001b[0m\n\u001b[0m\u001b[1;32m    186\u001b[0m \u001b[0;34m\u001b[0m\u001b[0m\n\u001b[1;32m    187\u001b[0m     \u001b[0;32mdef\u001b[0m \u001b[0mregister_hook\u001b[0m\u001b[0;34m(\u001b[0m\u001b[0mself\u001b[0m\u001b[0;34m,\u001b[0m \u001b[0mhook\u001b[0m\u001b[0;34m)\u001b[0m\u001b[0;34m:\u001b[0m\u001b[0;34m\u001b[0m\u001b[0;34m\u001b[0m\u001b[0m\n",
      "\u001b[0;32m~/anaconda3/envs/ml_py385/lib/python3.8/site-packages/torch/autograd/__init__.py\u001b[0m in \u001b[0;36mbackward\u001b[0;34m(tensors, grad_tensors, retain_graph, create_graph, grad_variables)\u001b[0m\n\u001b[1;32m    123\u001b[0m         \u001b[0mretain_graph\u001b[0m \u001b[0;34m=\u001b[0m \u001b[0mcreate_graph\u001b[0m\u001b[0;34m\u001b[0m\u001b[0;34m\u001b[0m\u001b[0m\n\u001b[1;32m    124\u001b[0m \u001b[0;34m\u001b[0m\u001b[0m\n\u001b[0;32m--> 125\u001b[0;31m     Variable._execution_engine.run_backward(\n\u001b[0m\u001b[1;32m    126\u001b[0m         \u001b[0mtensors\u001b[0m\u001b[0;34m,\u001b[0m \u001b[0mgrad_tensors\u001b[0m\u001b[0;34m,\u001b[0m \u001b[0mretain_graph\u001b[0m\u001b[0;34m,\u001b[0m \u001b[0mcreate_graph\u001b[0m\u001b[0;34m,\u001b[0m\u001b[0;34m\u001b[0m\u001b[0;34m\u001b[0m\u001b[0m\n\u001b[1;32m    127\u001b[0m         allow_unreachable=True)  # allow_unreachable flag\n",
      "\u001b[0;31mKeyboardInterrupt\u001b[0m: "
     ]
    }
   ],
   "source": [
    "# Train each autoencoder\n",
    "for x_label, x in dict(gene=gene_x, cell=cell_x).items():\n",
    "    \n",
    "    # Setup model directory\n",
    "    model_dir = join(SETTINGS['PROJECTS_DIR'], '%s_autoencoder' % x_label)\n",
    "    if not exists(model_dir):\n",
    "        os.mkdir(model_dir)\n",
    "    \n",
    "    # Split data into folds\n",
    "    skf = MultilabelStratifiedKFold(n_splits=5, shuffle=True, random_state=SEED)\n",
    "    for fold_i, (train_idx, valid_idx) in enumerate(skf.split(x, y)):\n",
    "        \n",
    "        # Setup dataloaders\n",
    "        train_x, valid_x = x[train_idx], x[valid_idx]\n",
    "        train_dataset = AutoEncoderDataset(train_x)\n",
    "        valid_dataset = AutoEncoderDataset(valid_x)\n",
    "        train_dataloader = DataLoader(train_dataset, batch_size=BATCH_SIZE, pin_memory=True, num_workers=4, shuffle=True)\n",
    "        valid_dataloader = DataLoader(valid_dataset, batch_size=BATCH_SIZE, pin_memory=True, num_workers=4)\n",
    "\n",
    "        # Pass variables through model configuration\n",
    "        model_config['feature_size'] = train_x.shape[1]\n",
    "        model_config['model_dir'] = model_dir\n",
    "        model_config['fold'] = fold_i\n",
    "        model_config['steps_per_epoch'] = len(train_dataloader)\n",
    "\n",
    "        # Initialize model\n",
    "        model = NeuralNetModel(model_config)\n",
    "        \n",
    "        # Set custom init weights for fast convergence\n",
    "        init_bias = np.mean(train_x, axis=0)\n",
    "        model.model.layers = initialize_bias(model.model.layers, init_bias)\n",
    "        \n",
    "        # Train model\n",
    "        model.train(train_dataloader, valid_dataloader)\n",
    "        break\n",
    "    break"
   ]
  },
  {
   "cell_type": "code",
   "execution_count": null,
   "metadata": {},
   "outputs": [],
   "source": []
  },
  {
   "cell_type": "code",
   "execution_count": 26,
   "metadata": {},
   "outputs": [],
   "source": [
    "avg_loss, preds = model.validation(valid_dataloader, return_preds=True)"
   ]
  },
  {
   "cell_type": "code",
   "execution_count": 29,
   "metadata": {},
   "outputs": [],
   "source": [
    "y0 = valid_dataset[0][0]"
   ]
  },
  {
   "cell_type": "code",
   "execution_count": 30,
   "metadata": {},
   "outputs": [],
   "source": [
    "y1 = nn.Sigmoid()(torch.tensor(preds[0])).numpy()"
   ]
  },
  {
   "cell_type": "code",
   "execution_count": 35,
   "metadata": {},
   "outputs": [
    {
     "data": {
      "image/png": "[encoded data removed]",
      "text/plain": [
       "<Figure size 432x288 with 1 Axes>"
      ]
     },
     "metadata": {
      "needs_background": "light"
     },
     "output_type": "display_data"
    }
   ],
   "source": [
    "plt.scatter(np.arange(len(y0)), y0)\n",
    "plt.scatter(np.arange(len(y1)), y1)\n",
    "plt.show()"
   ]
  },
  {
   "cell_type": "code",
   "execution_count": null,
   "metadata": {},
   "outputs": [],
   "source": []
  },
  {
   "cell_type": "code",
   "execution_count": null,
   "metadata": {},
   "outputs": [],
   "source": []
  },
  {
   "cell_type": "code",
   "execution_count": null,
   "metadata": {},
   "outputs": [],
   "source": []
  },
  {
   "cell_type": "code",
   "execution_count": null,
   "metadata": {},
   "outputs": [],
   "source": []
  },
  {
   "cell_type": "code",
   "execution_count": null,
   "metadata": {},
   "outputs": [],
   "source": []
  },
  {
   "cell_type": "code",
   "execution_count": null,
   "metadata": {},
   "outputs": [],
   "source": []
  },
  {
   "cell_type": "code",
   "execution_count": null,
   "metadata": {},
   "outputs": [],
   "source": []
  },
  {
   "cell_type": "code",
   "execution_count": null,
   "metadata": {},
   "outputs": [],
   "source": []
  },
  {
   "cell_type": "code",
   "execution_count": null,
   "metadata": {},
   "outputs": [],
   "source": []
  },
  {
   "cell_type": "code",
   "execution_count": null,
   "metadata": {},
   "outputs": [],
   "source": []
  },
  {
   "cell_type": "code",
   "execution_count": null,
   "metadata": {},
   "outputs": [],
   "source": []
  },
  {
   "cell_type": "code",
   "execution_count": null,
   "metadata": {},
   "outputs": [],
   "source": []
  },
  {
   "cell_type": "code",
   "execution_count": null,
   "metadata": {},
   "outputs": [],
   "source": []
  }
 ],
 "metadata": {
  "kernelspec": {
   "display_name": "Python (ml 3.8.5)",
   "language": "python",
   "name": "ml_py385"
  },
  "language_info": {
   "codemirror_mode": {
    "name": "ipython",
    "version": 3
   },
   "file_extension": ".py",
   "mimetype": "text/x-python",
   "name": "python",
   "nbconvert_exporter": "python",
   "pygments_lexer": "ipython3",
   "version": "3.8.5"
  }
 },
 "nbformat": 4,
 "nbformat_minor": 2
}
